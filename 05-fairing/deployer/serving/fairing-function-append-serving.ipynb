{
 "cells": [
  {
   "cell_type": "code",
   "execution_count": 1,
   "metadata": {},
   "outputs": [],
   "source": [
    "import argparse\n",
    "import os\n",
    "import joblib\n",
    "from sklearn import datasets\n",
    "from sklearn import svm\n",
    "from sklearn.model_selection import train_test_split\n",
    "from sklearn.metrics import mean_absolute_error"
   ]
  },
  {
   "cell_type": "code",
   "execution_count": 2,
   "metadata": {},
   "outputs": [],
   "source": [
    "def train_model(train_X, train_y):\n",
    "    model = svm.SVC(gamma='scale')\n",
    "    model.fit(train_X, train_y)\n",
    "    return model\n",
    "\n",
    "    \n",
    "def eval_model(model, test_X, test_y):\n",
    "    predictions = model.predict(test_X)\n",
    "    print('mean_absolute_error={}'.format(mean_absolute_error(predictions, test_y)))\n",
    "\n",
    "    \n",
    "def save_model(model, model_file):\n",
    "    joblib.dump(model, model_file)\n",
    "    print('Saved model to {}'.format(model_file))"
   ]
  },
  {
   "cell_type": "code",
   "execution_count": 3,
   "metadata": {},
   "outputs": [],
   "source": [
    "class ModelServe(object):\n",
    "   \n",
    "    def __init__(self):\n",
    "        self.model_file = 'trained_model.dat'\n",
    "        self.trained_model = None\n",
    "\n",
    "        \n",
    "    def train(self):\n",
    "        iris = datasets.load_iris()\n",
    "        X, y = iris.data, iris.target\n",
    "        train_X, test_X, train_y, test_y = train_test_split(X, y, test_size=0.2)\n",
    "        model = train_model(train_X, train_y)\n",
    "\n",
    "        eval_model(model, test_X, test_y)\n",
    "        save_model(model, self.model_file)\n",
    "\n",
    "        \n",
    "    def predict(self, X, feature_names):\n",
    "        if not self.trained_model:\n",
    "            self.trained_model = joblib.load(self.model_file)\n",
    "        predictions = self.trained_model.predict(X)\n",
    "        return predictions"
   ]
  },
  {
   "cell_type": "code",
   "execution_count": 4,
   "metadata": {},
   "outputs": [
    {
     "name": "stdout",
     "output_type": "stream",
     "text": [
      "mean_absolute_error=0.0\n",
      "Saved model to trained_model.dat\n"
     ]
    }
   ],
   "source": [
    "ModelServe().train()"
   ]
  },
  {
   "cell_type": "code",
   "execution_count": 5,
   "metadata": {},
   "outputs": [],
   "source": [
    "from kubeflow import fairing\n",
    "from kubeflow.fairing.kubernetes import utils as k8s_utils\n",
    " \n",
    "\n",
    "CONTAINER_REGISTRY = 'kangwoo'"
   ]
  },
  {
   "cell_type": "code",
   "execution_count": 6,
   "metadata": {},
   "outputs": [
    {
     "name": "stderr",
     "output_type": "stream",
     "text": [
      "[I 200501 03:28:39 config:134] Using preprocessor: <kubeflow.fairing.preprocessors.function.FunctionPreProcessor object at 0x7f1ec80edb00>\n",
      "[I 200501 03:28:39 config:136] Using builder: <kubeflow.fairing.builders.append.append.AppendBuilder object at 0x7f1ee88830f0>\n",
      "[I 200501 03:28:39 config:138] Using deployer: <kubeflow.fairing.deployers.serving.serving.Serving object at 0x7f1f100f45f8>\n",
      "[W 200501 03:28:39 append:50] Building image using Append builder...\n",
      "[I 200501 03:28:39 base:107] Creating docker context: /tmp/fairing_context_z0x0f5uj\n",
      "[W 200501 03:28:39 base:94] /home/jovyan/.local/lib/python3.6/site-packages/kubeflow/fairing/__init__.py already exists in Fairing context, skipping...\n",
      "[I 200501 03:28:39 docker_creds_:234] Loading Docker credentials for repository 'kangwoo/sklearn-seldon:0.0.1'\n",
      "[W 200501 03:28:41 append:54] Image successfully built in 2.501330686998699s.\n",
      "[W 200501 03:28:41 append:94] Pushing image kangwoo/fairing-function-append-serving:2D8363EC...\n",
      "[I 200501 03:28:41 docker_creds_:234] Loading Docker credentials for repository 'kangwoo/fairing-function-append-serving:2D8363EC'\n",
      "[W 200501 03:28:42 append:81] Uploading kangwoo/fairing-function-append-serving:2D8363EC\n",
      "[I 200501 03:28:42 docker_session_:280] Layer sha256:9d05811d1d43473d7476350d0920ab9f208eeec2002767d2e7594b688cb43435 exists, skipping\n",
      "[I 200501 03:28:43 docker_session_:280] Layer sha256:cd3f35d84caba5a287676eeaea3d371e1ed5af8c57c33532228a456e0505b2d5 exists, skipping\n",
      "[I 200501 03:28:43 docker_session_:280] Layer sha256:0907fdf4800ebca52819187ad2237c25f8ab882c12f3515ed5a69c732aa957d8 exists, skipping\n",
      "[I 200501 03:28:43 docker_session_:280] Layer sha256:fc57da2fafb6978d00423e215b1ce8889be05d8133d8cdf12ca033405bd0073d exists, skipping\n",
      "[I 200501 03:28:43 docker_session_:280] Layer sha256:6ae661c184d81dd86702a17cd34e18c7789621c8d888d8c299165e96211f4a8c exists, skipping\n",
      "[I 200501 03:28:43 docker_session_:280] Layer sha256:9455d6f4fa942a6bebd3392fa1f3487e4f2e9c7f18de67aa2d1bfa3c5e6f95f9 exists, skipping\n",
      "[I 200501 03:28:43 docker_session_:280] Layer sha256:54fec2fa59d0a0de9cd2dec9850b36c43de451f1fd1c0a5bf8f1cf26a61a5da4 exists, skipping\n",
      "[I 200501 03:28:46 docker_session_:284] Layer sha256:db0959e8f7c92268f9d9b55ac54bdc959ed3cd45e278470c1c610b8feae48bbe pushed.\n",
      "[I 200501 03:28:46 docker_session_:284] Layer sha256:d1fd399db205bab731c70eb985f31ce8a7417e606f645acde40c03f2bd09dfd9 pushed.\n",
      "[I 200501 03:28:47 docker_session_:334] Finished upload of: kangwoo/fairing-function-append-serving:2D8363EC\n",
      "[W 200501 03:28:47 append:99] Pushed image kangwoo/fairing-function-append-serving:2D8363EC in 5.3314239169994835s.\n",
      "[I 200501 03:28:47 serving:74] Cluster endpoint: http://fairing-service-s49mg.admin.svc.cluster.local:5000/predict\n"
     ]
    }
   ],
   "source": [
    "fairing.config.set_preprocessor(\"function\", function_obj=ModelServe,\n",
    "                                input_files=[\"trained_model.dat\"])\n",
    "fairing.config.set_builder('append', registry=CONTAINER_REGISTRY, image_name=\"fairing-function-append-serving\", base_image='kangwoo/sklearn-seldon:0.0.1')\n",
    "fairing.config.set_deployer('serving', serving_class=\"ModelServe\")\n",
    "_, _, deployer = fairing.config.run()"
   ]
  },
  {
   "cell_type": "code",
   "execution_count": 7,
   "metadata": {},
   "outputs": [
    {
     "name": "stdout",
     "output_type": "stream",
     "text": [
      "{\"data\":{\"names\":[],\"ndarray\":[1,1]},\"meta\":{}}\r\n"
     ]
    }
   ],
   "source": [
    "!curl http://fairing-service-s49mg.admin.svc.cluster.local:5000/predict -H \"Content-Type: application/x-www-form-urlencoded\" -d 'json={\"data\": {\"ndarray\": [[6.8,  2.8,  4.8,  1.4], [6.0,  3.4,  4.5,  1.6]]}}'"
   ]
  },
  {
   "cell_type": "code",
   "execution_count": 8,
   "metadata": {},
   "outputs": [
    {
     "name": "stdout",
     "output_type": "stream",
     "text": [
      "de101e48-8b5b-11ea-ace7-ce20adfccf14\n"
     ]
    }
   ],
   "source": [
    "job_id = deployer.job_id\n",
    "print(deployer.job_id)"
   ]
  },
  {
   "cell_type": "code",
   "execution_count": 9,
   "metadata": {},
   "outputs": [
    {
     "name": "stdout",
     "output_type": "stream",
     "text": [
      "NAME                     READY   UP-TO-DATE   AVAILABLE   AGE\r\n",
      "fairing-deployer-wjrtn   1/1     1            1           9s\r\n"
     ]
    }
   ],
   "source": [
    "!kubectl get deployment -l fairing-deployer=serving,fairing-id={job_id}"
   ]
  },
  {
   "cell_type": "code",
   "execution_count": 10,
   "metadata": {},
   "outputs": [
    {
     "name": "stdout",
     "output_type": "stream",
     "text": [
      "NAME                    TYPE        CLUSTER-IP      EXTERNAL-IP   PORT(S)    AGE\r\n",
      "fairing-service-s49mg   ClusterIP   10.102.122.61   <none>        5000/TCP   11s\r\n"
     ]
    }
   ],
   "source": [
    "!kubectl get service -l fairing-deployer=serving,fairing-id={job_id}"
   ]
  },
  {
   "cell_type": "code",
   "execution_count": 11,
   "metadata": {},
   "outputs": [
    {
     "name": "stderr",
     "output_type": "stream",
     "text": [
      "[I 200501 03:28:59 serving:124] Deleted service: admin/fairing-service-s49mg\n",
      "[I 200501 03:28:59 serving:136] Deleted deployment: admin/fairing-deployer-wjrtn\n"
     ]
    }
   ],
   "source": [
    "deployer.delete()"
   ]
  },
  {
   "cell_type": "code",
   "execution_count": null,
   "metadata": {},
   "outputs": [],
   "source": []
  }
 ],
 "metadata": {
  "kernelspec": {
   "display_name": "Python 3",
   "language": "python",
   "name": "python3"
  },
  "language_info": {
   "codemirror_mode": {
    "name": "ipython",
    "version": 3
   },
   "file_extension": ".py",
   "mimetype": "text/x-python",
   "name": "python",
   "nbconvert_exporter": "python",
   "pygments_lexer": "ipython3",
   "version": "3.6.9"
  }
 },
 "nbformat": 4,
 "nbformat_minor": 4
}
