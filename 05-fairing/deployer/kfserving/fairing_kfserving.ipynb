{
 "cells": [
  {
   "cell_type": "code",
   "execution_count": 1,
   "metadata": {},
   "outputs": [
    {
     "name": "stdout",
     "output_type": "stream",
     "text": [
      "NAME                 READY      DEFAULT_TRAFFIC CANARY_TRAFFIC  URL                                               \n",
      "fairing-kfserving    Unknown                                                                                      \n",
      "fairing-kfserving    False                                                                                        \n",
      "fairing-kfserving    False                                                                                        \n",
      "fairing-kfserving    False                                                                                        \n",
      "fairing-kfserving    True       100                             http://fairing-kfserving.admin.example.com/v1/m...\n"
     ]
    },
    {
     "name": "stderr",
     "output_type": "stream",
     "text": [
      "[I 200501 03:34:07 kfserving:127] Deployed the InferenceService fairing-kfserving successfully.\n"
     ]
    },
    {
     "data": {
      "text/plain": [
       "'fairing-kfserving'"
      ]
     },
     "execution_count": 1,
     "metadata": {},
     "output_type": "execute_result"
    }
   ],
   "source": [
    "import uuid\n",
    "from kubeflow.fairing.deployers.kfserving.kfserving import KFServing\n",
    "\n",
    "pvc_name='fairing-tfjob-data-pvc'\n",
    "isvc_name = 'fairing-kfserving'\n",
    "isvc = KFServing('tensorflow', isvc_name=isvc_name,\n",
    "                 default_storage_uri='pvc://' + pvc_name + '/models')\n",
    "isvc.deploy(isvc.generate_isvc())"
   ]
  },
  {
   "cell_type": "code",
   "execution_count": 2,
   "metadata": {},
   "outputs": [
    {
     "name": "stdout",
     "output_type": "stream",
     "text": [
      "NAME                URL                                                                      READY   DEFAULT TRAFFIC   CANARY TRAFFIC   AGE\r\n",
      "fairing-kfserving   http://fairing-kfserving.admin.example.com/v1/models/fairing-kfserving   True    100                                30s\r\n"
     ]
    }
   ],
   "source": [
    "!kubectl get inferenceservice {isvc_name}"
   ]
  },
  {
   "cell_type": "code",
   "execution_count": 3,
   "metadata": {},
   "outputs": [
    {
     "name": "stdout",
     "output_type": "stream",
     "text": [
      "inferenceservice.serving.kubeflow.org \"fairing-kfserving\" deleted\r\n"
     ]
    }
   ],
   "source": [
    "!kubectl delete inferenceservice {isvc_name}"
   ]
  },
  {
   "cell_type": "code",
   "execution_count": null,
   "metadata": {},
   "outputs": [],
   "source": []
  }
 ],
 "metadata": {
  "kernelspec": {
   "display_name": "Python 3",
   "language": "python",
   "name": "python3"
  },
  "language_info": {
   "codemirror_mode": {
    "name": "ipython",
    "version": 3
   },
   "file_extension": ".py",
   "mimetype": "text/x-python",
   "name": "python",
   "nbconvert_exporter": "python",
   "pygments_lexer": "ipython3",
   "version": "3.6.9"
  }
 },
 "nbformat": 4,
 "nbformat_minor": 4
}
