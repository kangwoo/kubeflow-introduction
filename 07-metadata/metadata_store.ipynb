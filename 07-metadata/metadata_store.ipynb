{
 "cells": [
  {
   "cell_type": "code",
   "execution_count": 1,
   "metadata": {},
   "outputs": [],
   "source": [
    "from ml_metadata import metadata_store\n",
    "from ml_metadata.proto import metadata_store_pb2"
   ]
  },
  {
   "cell_type": "code",
   "execution_count": 2,
   "metadata": {},
   "outputs": [],
   "source": [
    "connection_config = metadata_store_pb2.ConnectionConfig()\n",
    "connection_config.mysql.host = 'metadata-db.kubeflow'\n",
    "connection_config.mysql.port =  3306\n",
    "connection_config.mysql.database = 'metadb'\n",
    "connection_config.mysql.user = 'root'\n",
    "connection_config.mysql.password = 'test'\n",
    "store = metadata_store.MetadataStore(connection_config)"
   ]
  },
  {
   "cell_type": "code",
   "execution_count": 3,
   "metadata": {},
   "outputs": [],
   "source": [
    "# Create ArtifactTypes, e.g., Data and Model\n",
    "data_type = metadata_store_pb2.ArtifactType()\n",
    "data_type.name = \"DataSet\"\n",
    "data_type.properties[\"day\"] = metadata_store_pb2.INT\n",
    "data_type.properties[\"split\"] = metadata_store_pb2.STRING\n",
    "data_type_id = store.put_artifact_type(data_type)\n",
    "\n",
    "model_type = metadata_store_pb2.ArtifactType()\n",
    "model_type.name = \"SavedModel\"\n",
    "model_type.properties[\"version\"] = metadata_store_pb2.INT\n",
    "model_type.properties[\"name\"] = metadata_store_pb2.STRING\n",
    "model_type_id = store.put_artifact_type(model_type)"
   ]
  },
  {
   "cell_type": "code",
   "execution_count": 4,
   "metadata": {},
   "outputs": [],
   "source": [
    "# Create ExecutionType, e.g., Trainer\n",
    "trainer_type = metadata_store_pb2.ExecutionType()\n",
    "trainer_type.name = \"Trainer\"\n",
    "trainer_type.properties[\"state\"] = metadata_store_pb2.STRING\n",
    "trainer_type_id = store.put_execution_type(trainer_type)"
   ]
  },
  {
   "cell_type": "code",
   "execution_count": 5,
   "metadata": {},
   "outputs": [],
   "source": [
    "# Declare input artifact of type DataSet\n",
    "data_artifact = metadata_store_pb2.Artifact()\n",
    "data_artifact.uri = 'path/to/data'\n",
    "data_artifact.properties[\"day\"].int_value = 1\n",
    "data_artifact.properties[\"split\"].string_value = 'train'\n",
    "data_artifact.type_id = data_type_id\n",
    "data_artifact_id = store.put_artifacts([data_artifact])[0]"
   ]
  },
  {
   "cell_type": "code",
   "execution_count": 6,
   "metadata": {},
   "outputs": [],
   "source": [
    "# Register the Execution of a Trainer run\n",
    "trainer_run = metadata_store_pb2.Execution()\n",
    "trainer_run.type_id = trainer_type_id\n",
    "trainer_run.properties[\"state\"].string_value = \"RUNNING\"\n",
    "run_id = store.put_executions([trainer_run])[0]"
   ]
  },
  {
   "cell_type": "code",
   "execution_count": 7,
   "metadata": {},
   "outputs": [],
   "source": [
    "# Declare the input event\n",
    "input_event = metadata_store_pb2.Event()\n",
    "input_event.artifact_id = data_artifact_id\n",
    "input_event.execution_id = run_id\n",
    "input_event.type = metadata_store_pb2.Event.DECLARED_INPUT\n",
    "\n",
    "# Submit input event to the Metadata Store\n",
    "store.put_events([input_event])"
   ]
  },
  {
   "cell_type": "code",
   "execution_count": 8,
   "metadata": {},
   "outputs": [],
   "source": [
    "# Declare output artifact of type SavedModel\n",
    "model_artifact = metadata_store_pb2.Artifact()\n",
    "model_artifact.uri = 'path/to/model/file'\n",
    "model_artifact.properties[\"version\"].int_value = 1\n",
    "model_artifact.properties[\"name\"].string_value = 'MNIST-v1'\n",
    "model_artifact.type_id = model_type_id\n",
    "model_artifact_id = store.put_artifacts([model_artifact])[0]"
   ]
  },
  {
   "cell_type": "code",
   "execution_count": 9,
   "metadata": {},
   "outputs": [],
   "source": [
    "# Declare the output event\n",
    "output_event = metadata_store_pb2.Event()\n",
    "output_event.artifact_id = model_artifact_id\n",
    "output_event.execution_id = run_id\n",
    "output_event.type = metadata_store_pb2.Event.DECLARED_OUTPUT\n",
    "\n",
    "# Submit output event to the Metadata Store\n",
    "store.put_events([output_event])"
   ]
  },
  {
   "cell_type": "code",
   "execution_count": 10,
   "metadata": {},
   "outputs": [
    {
     "data": {
      "text/plain": [
       "[28]"
      ]
     },
     "execution_count": 10,
     "metadata": {},
     "output_type": "execute_result"
    }
   ],
   "source": [
    "trainer_run.id = run_id\n",
    "trainer_run.properties[\"state\"].string_value = \"COMPLETED\"\n",
    "store.put_executions([trainer_run])"
   ]
  },
  {
   "cell_type": "code",
   "execution_count": 11,
   "metadata": {},
   "outputs": [],
   "source": [
    "# Similarly, create a ContextType, e.g., Experiment with a `note` property\n",
    "experiment_type = metadata_store_pb2.ContextType()\n",
    "experiment_type.name = \"Experiment\"\n",
    "experiment_type.properties[\"note\"] = metadata_store_pb2.STRING\n",
    "experiment_type_id = store.put_context_type(experiment_type)\n",
    "\n",
    "# Group the model and the trainer run to an experiment.\n",
    "my_experiment = metadata_store_pb2.Context()\n",
    "my_experiment.type_id = experiment_type_id\n",
    "# Give the experiment a name\n",
    "my_experiment.name = \"exp1\"\n",
    "my_experiment.properties[\"note\"].string_value = \"My first experiment.\"\n",
    "experiment_id = store.put_contexts([my_experiment])[0]\n",
    "\n",
    "attribution = metadata_store_pb2.Attribution()\n",
    "attribution.artifact_id = model_artifact_id\n",
    "attribution.context_id = experiment_id\n",
    "\n",
    "association = metadata_store_pb2.Association()\n",
    "association.execution_id = run_id\n",
    "association.context_id = experiment_id\n",
    "\n",
    "store.put_attributions_and_associations([attribution], [association])"
   ]
  }
 ],
 "metadata": {
  "kernelspec": {
   "display_name": "Python 3",
   "language": "python",
   "name": "python3"
  },
  "language_info": {
   "codemirror_mode": {
    "name": "ipython",
    "version": 3
   },
   "file_extension": ".py",
   "mimetype": "text/x-python",
   "name": "python",
   "nbconvert_exporter": "python",
   "pygments_lexer": "ipython3",
   "version": "3.6.9"
  }
 },
 "nbformat": 4,
 "nbformat_minor": 4
}
