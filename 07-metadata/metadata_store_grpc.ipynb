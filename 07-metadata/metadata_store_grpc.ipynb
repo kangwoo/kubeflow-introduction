{
 "cells": [
  {
   "cell_type": "code",
   "execution_count": 1,
   "metadata": {},
   "outputs": [],
   "source": [
    "from grpc import insecure_channel\n",
    "from ml_metadata.proto import metadata_store_pb2\n",
    "from ml_metadata.proto import metadata_store_service_pb2\n",
    "from ml_metadata.proto import metadata_store_service_pb2_grpc\n",
    "channel = insecure_channel('metadata-grpc-service.kubeflow:8080')\n",
    "stub = metadata_store_service_pb2_grpc.MetadataStoreServiceStub(channel)"
   ]
  },
  {
   "cell_type": "code",
   "execution_count": 2,
   "metadata": {},
   "outputs": [],
   "source": [
    "# Create ArtifactTypes, e.g., Data and Model\n",
    "data_type = metadata_store_pb2.ArtifactType()\n",
    "data_type.name = \"DataSet\"\n",
    "data_type.properties[\"day\"] = metadata_store_pb2.INT\n",
    "data_type.properties[\"split\"] = metadata_store_pb2.STRING\n",
    "request = metadata_store_service_pb2.PutArtifactTypeRequest()\n",
    "request.all_fields_match = True\n",
    "request.artifact_type.CopyFrom(data_type)\n",
    "data_type_id = stub.PutArtifactType(request).type_id\n",
    "\n",
    "model_type = metadata_store_pb2.ArtifactType()\n",
    "model_type.name = \"SavedModel\"\n",
    "model_type.properties[\"version\"] = metadata_store_pb2.INT\n",
    "model_type.properties[\"name\"] = metadata_store_pb2.STRING\n",
    "request.artifact_type.CopyFrom(model_type)\n",
    "model_type_id = stub.PutArtifactType(request).type_id"
   ]
  },
  {
   "cell_type": "code",
   "execution_count": 3,
   "metadata": {},
   "outputs": [],
   "source": [
    "# Create ExecutionType, e.g., Trainer\n",
    "trainer_type = metadata_store_pb2.ExecutionType()\n",
    "trainer_type.name = \"Trainer\"\n",
    "trainer_type.properties[\"state\"] = metadata_store_pb2.STRING\n",
    "request = metadata_store_service_pb2.PutExecutionTypeRequest()\n",
    "request.all_fields_match = True\n",
    "request.execution_type.CopyFrom(trainer_type)\n",
    "trainer_type_id = stub.PutExecutionType(request).type_id"
   ]
  },
  {
   "cell_type": "code",
   "execution_count": 4,
   "metadata": {},
   "outputs": [],
   "source": [
    "# Declare input artifact of type DataSet\n",
    "data_artifact = metadata_store_pb2.Artifact()\n",
    "data_artifact.uri = 'path/to/data'\n",
    "data_artifact.properties[\"day\"].int_value = 1\n",
    "data_artifact.properties[\"split\"].string_value = 'train'\n",
    "data_artifact.type_id = data_type_id\n",
    "request = metadata_store_service_pb2.PutArtifactsRequest()\n",
    "request.artifacts.add().CopyFrom(data_artifact)\n",
    "data_artifact_id = stub.PutArtifacts(request).artifact_ids[0]"
   ]
  },
  {
   "cell_type": "code",
   "execution_count": 5,
   "metadata": {},
   "outputs": [],
   "source": [
    "# Register the Execution of a Trainer run\n",
    "trainer_run = metadata_store_pb2.Execution()\n",
    "trainer_run.type_id = trainer_type_id\n",
    "trainer_run.properties[\"state\"].string_value = \"RUNNING\"\n",
    "request = metadata_store_service_pb2.PutExecutionsRequest()\n",
    "request.executions.add().CopyFrom(trainer_run)\n",
    "run_id = stub.PutExecutions(request).execution_ids[0]"
   ]
  },
  {
   "cell_type": "code",
   "execution_count": 6,
   "metadata": {},
   "outputs": [
    {
     "data": {
      "text/plain": []
     },
     "execution_count": 6,
     "metadata": {},
     "output_type": "execute_result"
    }
   ],
   "source": [
    "# Declare the input event\n",
    "input_event = metadata_store_pb2.Event()\n",
    "input_event.artifact_id = data_artifact_id\n",
    "input_event.execution_id = run_id\n",
    "input_event.type = metadata_store_pb2.Event.DECLARED_INPUT\n",
    "\n",
    "# Submit input event to the Metadata Store\n",
    "request = metadata_store_service_pb2.PutEventsRequest()\n",
    "request.events.add().CopyFrom(input_event)\n",
    "stub.PutEvents(request)"
   ]
  },
  {
   "cell_type": "code",
   "execution_count": 7,
   "metadata": {},
   "outputs": [],
   "source": [
    "# Declare output artifact of type SavedModel\n",
    "model_artifact = metadata_store_pb2.Artifact()\n",
    "model_artifact.uri = 'path/to/model/file'\n",
    "model_artifact.properties[\"version\"].int_value = 1\n",
    "model_artifact.properties[\"name\"].string_value = 'MNIST-v1'\n",
    "model_artifact.type_id = model_type_id\n",
    "request = metadata_store_service_pb2.PutArtifactsRequest()\n",
    "request.artifacts.add().CopyFrom(model_artifact)\n",
    "model_artifact_id = stub.PutArtifacts(request).artifact_ids[0]"
   ]
  },
  {
   "cell_type": "code",
   "execution_count": 8,
   "metadata": {},
   "outputs": [
    {
     "data": {
      "text/plain": []
     },
     "execution_count": 8,
     "metadata": {},
     "output_type": "execute_result"
    }
   ],
   "source": [
    "# Declare the output event\n",
    "output_event = metadata_store_pb2.Event()\n",
    "output_event.artifact_id = model_artifact_id\n",
    "output_event.execution_id = run_id\n",
    "output_event.type = metadata_store_pb2.Event.DECLARED_OUTPUT\n",
    "\n",
    "# Submit output event to the Metadata Store\n",
    "request = metadata_store_service_pb2.PutEventsRequest()\n",
    "request.events.add().CopyFrom(output_event)\n",
    "stub.PutEvents(request)"
   ]
  },
  {
   "cell_type": "code",
   "execution_count": 9,
   "metadata": {},
   "outputs": [
    {
     "data": {
      "text/plain": [
       "execution_ids: 33"
      ]
     },
     "execution_count": 9,
     "metadata": {},
     "output_type": "execute_result"
    }
   ],
   "source": [
    "trainer_run.id = run_id\n",
    "trainer_run.properties[\"state\"].string_value = \"COMPLETED\"\n",
    "request = metadata_store_service_pb2.PutExecutionsRequest()\n",
    "request.executions.add().CopyFrom(trainer_run)\n",
    "stub.PutExecutions(request)"
   ]
  },
  {
   "cell_type": "code",
   "execution_count": 10,
   "metadata": {},
   "outputs": [
    {
     "data": {
      "text/plain": []
     },
     "execution_count": 10,
     "metadata": {},
     "output_type": "execute_result"
    }
   ],
   "source": [
    "# Similarly, create a ContextType, e.g., Experiment with a `note` property\n",
    "experiment_type = metadata_store_pb2.ContextType()\n",
    "experiment_type.name = \"Experiment\"\n",
    "experiment_type.properties[\"note\"] = metadata_store_pb2.STRING\n",
    "request = metadata_store_service_pb2.PutContextTypeRequest()\n",
    "request.all_fields_match = True\n",
    "request.context_type.CopyFrom(experiment_type)\n",
    "experiment_type_id = stub.PutContextType(request).type_id\n",
    "\n",
    "\n",
    "# Group the model and the trainer run to an experiment.\n",
    "my_experiment = metadata_store_pb2.Context()\n",
    "my_experiment.type_id = experiment_type_id\n",
    "# Give the experiment a name\n",
    "my_experiment.name = \"exp2-grpc\"\n",
    "my_experiment.properties[\"note\"].string_value = \"My second experiment.\"\n",
    "request = metadata_store_service_pb2.PutContextsRequest()\n",
    "request.contexts.add().CopyFrom(my_experiment)\n",
    "experiment_id = stub.PutContexts(request).context_ids[0]\n",
    "\n",
    "\n",
    "attribution = metadata_store_pb2.Attribution()\n",
    "attribution.artifact_id = model_artifact_id\n",
    "attribution.context_id = experiment_id\n",
    "\n",
    "association = metadata_store_pb2.Association()\n",
    "association.execution_id = run_id\n",
    "association.context_id = experiment_id\n",
    "\n",
    "request = metadata_store_service_pb2.PutAttributionsAndAssociationsRequest()\n",
    "request.attributions.add().CopyFrom(attribution)\n",
    "request.associations.add().CopyFrom(association)\n",
    "stub.PutAttributionsAndAssociations(request)"
   ]
  },
  {
   "cell_type": "code",
   "execution_count": null,
   "metadata": {},
   "outputs": [],
   "source": []
  }
 ],
 "metadata": {
  "kernelspec": {
   "display_name": "Python 3",
   "language": "python",
   "name": "python3"
  },
  "language_info": {
   "codemirror_mode": {
    "name": "ipython",
    "version": 3
   },
   "file_extension": ".py",
   "mimetype": "text/x-python",
   "name": "python",
   "nbconvert_exporter": "python",
   "pygments_lexer": "ipython3",
   "version": "3.6.9"
  }
 },
 "nbformat": 4,
 "nbformat_minor": 4
}
