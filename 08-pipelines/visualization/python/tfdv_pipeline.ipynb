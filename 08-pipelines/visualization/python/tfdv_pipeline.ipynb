{
 "cells": [
  {
   "cell_type": "code",
   "execution_count": 1,
   "metadata": {},
   "outputs": [],
   "source": [
    "import os\n",
    "import kfp\n",
    "from kfp import dsl\n",
    "from kfp import onprem\n",
    "from kfp import components"
   ]
  },
  {
   "cell_type": "code",
   "execution_count": 2,
   "metadata": {},
   "outputs": [],
   "source": [
    "def statistics_op(input_path, output_path):\n",
    "    import os\n",
    "    import tempfile, urllib, zipfile\n",
    "    import tensorflow_data_validation as tfdv\n",
    "\n",
    "    BASE_DIR = tempfile.mkdtemp()\n",
    "    DATA_DIR = os.path.join(BASE_DIR, 'data')\n",
    "    TRAIN_DATA = os.path.join(DATA_DIR, 'train', 'data.csv')\n",
    "\n",
    "    # Download the zip file and unzip it\n",
    "    zip, headers = urllib.request.urlretrieve(input_path)\n",
    "    zipfile.ZipFile(zip).extractall(BASE_DIR)\n",
    "    zipfile.ZipFile(zip).close()\n",
    "    \n",
    "    output_path = os.path.join(output_path, 'train')\n",
    "    train_stats = tfdv.generate_statistics_from_csv(data_location=TRAIN_DATA, output_path=output_path )\n",
    "    print(\"Saved statistics to\", output_path )\n",
    "\n",
    "\n",
    "statistics_op = components.func_to_container_op(statistics_op, base_image='kangwoo/pipeline-tfx:0.0.1')"
   ]
  },
  {
   "cell_type": "code",
   "execution_count": 3,
   "metadata": {},
   "outputs": [
    {
     "data": {
      "text/html": [
       "Experiment link <a href=\"/pipeline/#/experiments/details/9b307a38-efec-4351-9405-948381e4d162\" target=\"_blank\" >here</a>"
      ],
      "text/plain": [
       "<IPython.core.display.HTML object>"
      ]
     },
     "metadata": {},
     "output_type": "display_data"
    },
    {
     "data": {
      "text/html": [
       "Run link <a href=\"/pipeline/#/runs/details/0e974d99-c9cc-48ce-8aac-9b13bd16a993\" target=\"_blank\" >here</a>"
      ],
      "text/plain": [
       "<IPython.core.display.HTML object>"
      ]
     },
     "metadata": {},
     "output_type": "display_data"
    }
   ],
   "source": [
    "@dsl.pipeline(\n",
    "    name='TFDV pipeline',\n",
    "    description='TFDV pipeline'\n",
    ")\n",
    "def tfdv_pipeline():\n",
    "    pvc_name = \"pipeline-data-pvc\"\n",
    "    volume_name = 'pipeline-data'\n",
    "    volume_mount_path = '/mnt/data'\n",
    "\n",
    "    output_path = os.path.join(volume_mount_path, 'pipeline/chicago_taxi', '1')\n",
    "    \n",
    "    statistics_task = statistics_op(input_path='https://storage.googleapis.com/artifacts.tfx-oss-public.appspot.com/datasets/chicago_data.zip',\n",
    "                                    output_path=output_path)\\\n",
    "        .apply(onprem.mount_pvc(pvc_name, volume_name=volume_name, volume_mount_path=volume_mount_path))\n",
    "\n",
    "\n",
    "\n",
    "if __name__ == '__main__':\n",
    "    kfp.compiler.Compiler().compile(tfdv_pipeline, 'tfdv-pipeline.zip')\n",
    "\n",
    "    client = kfp.Client()\n",
    "    my_experiment = client.create_experiment(name='Visualization Experiment')\n",
    "    my_run = client.run_pipeline(my_experiment.id, 'TFDV Pipeline', 'tfdv-pipeline.zip')"
   ]
  },
  {
   "cell_type": "code",
   "execution_count": null,
   "metadata": {},
   "outputs": [],
   "source": []
  }
 ],
 "metadata": {
  "kernelspec": {
   "display_name": "Python 3",
   "language": "python",
   "name": "python3"
  },
  "language_info": {
   "codemirror_mode": {
    "name": "ipython",
    "version": 3
   },
   "file_extension": ".py",
   "mimetype": "text/x-python",
   "name": "python",
   "nbconvert_exporter": "python",
   "pygments_lexer": "ipython3",
   "version": "3.6.9"
  }
 },
 "nbformat": 4,
 "nbformat_minor": 4
}
